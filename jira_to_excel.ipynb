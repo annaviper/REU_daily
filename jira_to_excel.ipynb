{
 "cells": [
  {
   "cell_type": "code",
   "execution_count": 68,
   "id": "9e221f16",
   "metadata": {},
   "outputs": [],
   "source": [
    "from datetime import datetime\n",
    "import glob\n",
    "import os\n",
    "import pandas as pd\n",
    "import re"
   ]
  },
  {
   "cell_type": "code",
   "execution_count": null,
   "id": "dc45ed46",
   "metadata": {},
   "outputs": [
    {
     "name": "stdout",
     "output_type": "stream",
     "text": [
      "daily.xlsx has been deleted.\n"
     ]
    }
   ],
   "source": [
    "daily_path = \"daily.xlsx\"\n",
    "if os.path.exists(daily_path):\n",
    "    os.remove(daily_path)\n",
    "    print(f\"{daily_path} has been deleted.\")\n",
    "else:\n",
    "    print(f\"{daily_path} not found.\")"
   ]
  },
  {
   "cell_type": "markdown",
   "id": "b79abde1",
   "metadata": {},
   "source": [
    "# Extract"
   ]
  },
  {
   "cell_type": "code",
   "execution_count": 70,
   "id": "d7592a4d",
   "metadata": {},
   "outputs": [],
   "source": [
    "# Read file\n",
    "today = datetime.today().strftime(format='%Y-%m-%d')\n",
    "file_path = glob.glob(f\"DBA T-Systems JIRA {today}*.csv\")[0]\n",
    "df = pd.read_csv(file_path)"
   ]
  },
  {
   "cell_type": "markdown",
   "id": "96f4d750",
   "metadata": {},
   "source": [
    "# Transform"
   ]
  },
  {
   "cell_type": "code",
   "execution_count": 71,
   "id": "5a7b6189",
   "metadata": {},
   "outputs": [
    {
     "data": {
      "text/html": [
       "<div>\n",
       "<style scoped>\n",
       "    .dataframe tbody tr th:only-of-type {\n",
       "        vertical-align: middle;\n",
       "    }\n",
       "\n",
       "    .dataframe tbody tr th {\n",
       "        vertical-align: top;\n",
       "    }\n",
       "\n",
       "    .dataframe thead th {\n",
       "        text-align: right;\n",
       "    }\n",
       "</style>\n",
       "<table border=\"1\" class=\"dataframe\">\n",
       "  <thead>\n",
       "    <tr style=\"text-align: right;\">\n",
       "      <th></th>\n",
       "      <th>Componente(s)</th>\n",
       "    </tr>\n",
       "  </thead>\n",
       "  <tbody>\n",
       "    <tr>\n",
       "      <th>0</th>\n",
       "      <td>Eina de QdC AUTOSERVEI</td>\n",
       "    </tr>\n",
       "    <tr>\n",
       "      <th>1</th>\n",
       "      <td>UNeix-(UNX)</td>\n",
       "    </tr>\n",
       "    <tr>\n",
       "      <th>2</th>\n",
       "      <td>Eina de QdC AUTOSERVEI</td>\n",
       "    </tr>\n",
       "    <tr>\n",
       "      <th>3</th>\n",
       "      <td>UNeix-(UNX)</td>\n",
       "    </tr>\n",
       "    <tr>\n",
       "      <th>4</th>\n",
       "      <td>UNeix-(UNX)</td>\n",
       "    </tr>\n",
       "  </tbody>\n",
       "</table>\n",
       "</div>"
      ],
      "text/plain": [
       "            Componente(s)\n",
       "0  Eina de QdC AUTOSERVEI\n",
       "1             UNeix-(UNX)\n",
       "2  Eina de QdC AUTOSERVEI\n",
       "3             UNeix-(UNX)\n",
       "4             UNeix-(UNX)"
      ]
     },
     "execution_count": 71,
     "metadata": {},
     "output_type": "execute_result"
    }
   ],
   "source": [
    "df['Componente(s)'] = df['Componente(s)'].str.replace(r'^\\w+-\\d+-', '', regex=True)\n",
    "df[['Componente(s)']].head()"
   ]
  },
  {
   "cell_type": "code",
   "execution_count": 72,
   "id": "b8ba626c",
   "metadata": {},
   "outputs": [
    {
     "data": {
      "text/html": [
       "<div>\n",
       "<style scoped>\n",
       "    .dataframe tbody tr th:only-of-type {\n",
       "        vertical-align: middle;\n",
       "    }\n",
       "\n",
       "    .dataframe tbody tr th {\n",
       "        vertical-align: top;\n",
       "    }\n",
       "\n",
       "    .dataframe thead th {\n",
       "        text-align: right;\n",
       "    }\n",
       "</style>\n",
       "<table border=\"1\" class=\"dataframe\">\n",
       "  <thead>\n",
       "    <tr style=\"text-align: right;\">\n",
       "      <th></th>\n",
       "      <th>Ticket</th>\n",
       "      <th>Resumen</th>\n",
       "    </tr>\n",
       "  </thead>\n",
       "  <tbody>\n",
       "    <tr>\n",
       "      <th>0</th>\n",
       "      <td>WO0000004544951</td>\n",
       "      <td>Suport funcional de l'eina \"Plataforma Dades R...</td>\n",
       "    </tr>\n",
       "    <tr>\n",
       "      <th>1</th>\n",
       "      <td>WO0000004542969</td>\n",
       "      <td>Error de longitud Fitxer 80 - IDIBELL per a AN...</td>\n",
       "    </tr>\n",
       "    <tr>\n",
       "      <th>2</th>\n",
       "      <td>WO0000004536702</td>\n",
       "      <td>Suport tècnic per l'aplicació PDREU, del Depar...</td>\n",
       "    </tr>\n",
       "    <tr>\n",
       "      <th>3</th>\n",
       "      <td>WO0000004534659</td>\n",
       "      <td>UNeix AM09 - Actualització CAR DT HIST DETALL ...</td>\n",
       "    </tr>\n",
       "    <tr>\n",
       "      <th>4</th>\n",
       "      <td>WO0000004367441</td>\n",
       "      <td>Suport funcional a UNeix AM09_23 . Problemes a...</td>\n",
       "    </tr>\n",
       "  </tbody>\n",
       "</table>\n",
       "</div>"
      ],
      "text/plain": [
       "            Ticket                                            Resumen\n",
       "0  WO0000004544951  Suport funcional de l'eina \"Plataforma Dades R...\n",
       "1  WO0000004542969  Error de longitud Fitxer 80 - IDIBELL per a AN...\n",
       "2  WO0000004536702  Suport tècnic per l'aplicació PDREU, del Depar...\n",
       "3  WO0000004534659  UNeix AM09 - Actualització CAR DT HIST DETALL ...\n",
       "4  WO0000004367441  Suport funcional a UNeix AM09_23 . Problemes a..."
      ]
     },
     "execution_count": 72,
     "metadata": {},
     "output_type": "execute_result"
    }
   ],
   "source": [
    "# Extreu WO/INC\n",
    "df['Ticket'] = df['Resumen'].str.extract(r'\\b(WO\\d+|INC\\d+)\\b(?= - )', expand=False)\n",
    "df['Resumen'] = df['Resumen'].str.replace(r'\\s*(WO\\d+|INC\\d+)\\s*-\\s*', '', regex=True)\n",
    "df[['Ticket', 'Resumen']].head()"
   ]
  },
  {
   "cell_type": "code",
   "execution_count": 73,
   "id": "693a39e5",
   "metadata": {},
   "outputs": [
    {
     "data": {
      "text/html": [
       "<div>\n",
       "<style scoped>\n",
       "    .dataframe tbody tr th:only-of-type {\n",
       "        vertical-align: middle;\n",
       "    }\n",
       "\n",
       "    .dataframe tbody tr th {\n",
       "        vertical-align: top;\n",
       "    }\n",
       "\n",
       "    .dataframe thead th {\n",
       "        text-align: right;\n",
       "    }\n",
       "</style>\n",
       "<table border=\"1\" class=\"dataframe\">\n",
       "  <thead>\n",
       "    <tr style=\"text-align: right;\">\n",
       "      <th></th>\n",
       "      <th>Descripción</th>\n",
       "    </tr>\n",
       "  </thead>\n",
       "  <tbody>\n",
       "    <tr>\n",
       "      <th>0</th>\n",
       "      <td>Molt bon dia, Voldríem sol·licitar una càrrega...</td>\n",
       "    </tr>\n",
       "    <tr>\n",
       "      <th>1</th>\n",
       "      <td>La institució IDIBELL està carregant el fitxer...</td>\n",
       "    </tr>\n",
       "    <tr>\n",
       "      <th>2</th>\n",
       "      <td>Bon dia, Aquest tiquet de suport tècnic és per...</td>\n",
       "    </tr>\n",
       "    <tr>\n",
       "      <th>3</th>\n",
       "      <td>Tiquet per l’aplicació UNEIX, destinat al lot ...</td>\n",
       "    </tr>\n",
       "    <tr>\n",
       "      <th>4</th>\n",
       "      <td>NaN</td>\n",
       "    </tr>\n",
       "  </tbody>\n",
       "</table>\n",
       "</div>"
      ],
      "text/plain": [
       "                                         Descripción\n",
       "0  Molt bon dia, Voldríem sol·licitar una càrrega...\n",
       "1  La institució IDIBELL està carregant el fitxer...\n",
       "2  Bon dia, Aquest tiquet de suport tècnic és per...\n",
       "3  Tiquet per l’aplicació UNEIX, destinat al lot ...\n",
       "4                                                NaN"
      ]
     },
     "execution_count": 73,
     "metadata": {},
     "output_type": "execute_result"
    }
   ],
   "source": [
    "# Reduir descripció\n",
    "regex_pattern = r\">>Descripció detallada:(.*?)>>Adreces de correu addicionals\"\n",
    "df[\"Descripción\"] = df[\"Descripción\"].str.extract(regex_pattern, flags=re.DOTALL)\n",
    "df[\"Descripción\"] = df[\"Descripción\"].str.strip().str.replace(\"\\n\", \"\")\n",
    "df[[\"Descripción\"]].head()"
   ]
  },
  {
   "cell_type": "code",
   "execution_count": 74,
   "id": "1382da92",
   "metadata": {},
   "outputs": [
    {
     "data": {
      "text/html": [
       "<div>\n",
       "<style scoped>\n",
       "    .dataframe tbody tr th:only-of-type {\n",
       "        vertical-align: middle;\n",
       "    }\n",
       "\n",
       "    .dataframe tbody tr th {\n",
       "        vertical-align: top;\n",
       "    }\n",
       "\n",
       "    .dataframe thead th {\n",
       "        text-align: right;\n",
       "    }\n",
       "</style>\n",
       "<table border=\"1\" class=\"dataframe\">\n",
       "  <thead>\n",
       "    <tr style=\"text-align: right;\">\n",
       "      <th></th>\n",
       "      <th>Componente(s)</th>\n",
       "      <th>Ticket</th>\n",
       "      <th>Resumen</th>\n",
       "      <th>Descripción</th>\n",
       "      <th>Estado</th>\n",
       "      <th>Remedy Status</th>\n",
       "      <th>Creada</th>\n",
       "      <th>Resuelta</th>\n",
       "      <th>ANS</th>\n",
       "      <th>Remedy ID</th>\n",
       "      <th>Customer Reporter</th>\n",
       "    </tr>\n",
       "  </thead>\n",
       "  <tbody>\n",
       "    <tr>\n",
       "      <th>0</th>\n",
       "      <td>Eina de QdC AUTOSERVEI</td>\n",
       "      <td>WO0000004544951</td>\n",
       "      <td>Suport funcional de l'eina \"Plataforma Dades R...</td>\n",
       "      <td>Molt bon dia, Voldríem sol·licitar una càrrega...</td>\n",
       "      <td>Paralizada</td>\n",
       "      <td>Pending</td>\n",
       "      <td>17/04/2025 14:01</td>\n",
       "      <td>NaN</td>\n",
       "      <td>24/04/2025 15:49</td>\n",
       "      <td>REQ000011308263</td>\n",
       "      <td>XAVIER LASAUCA CISA</td>\n",
       "    </tr>\n",
       "  </tbody>\n",
       "</table>\n",
       "</div>"
      ],
      "text/plain": [
       "            Componente(s)           Ticket  \\\n",
       "0  Eina de QdC AUTOSERVEI  WO0000004544951   \n",
       "\n",
       "                                             Resumen  \\\n",
       "0  Suport funcional de l'eina \"Plataforma Dades R...   \n",
       "\n",
       "                                         Descripción      Estado  \\\n",
       "0  Molt bon dia, Voldríem sol·licitar una càrrega...  Paralizada   \n",
       "\n",
       "  Remedy Status            Creada Resuelta               ANS        Remedy ID  \\\n",
       "0       Pending  17/04/2025 14:01      NaN  24/04/2025 15:49  REQ000011308263   \n",
       "\n",
       "     Customer Reporter  \n",
       "0  XAVIER LASAUCA CISA  "
      ]
     },
     "execution_count": 74,
     "metadata": {},
     "output_type": "execute_result"
    }
   ],
   "source": [
    "# Renombra i ordena columnes\n",
    "df = df.rename(columns={\n",
    "    \"Campo personalizado (Remedy Tiquet Status)\": \"Remedy Status\",\n",
    "    \"Campo personalizado (Due Date Resolució ANS)\": \"ANS\",\n",
    "    \"Campo personalizado (Linked Customer Code 5)\": \"Remedy ID\",\n",
    "    \"Campo personalizado (Customer Reporter)\": \"Customer Reporter\"\n",
    "    })\n",
    "df = df[['Componente(s)', 'Ticket', 'Resumen', 'Descripción', 'Estado', 'Remedy Status', 'Creada',\n",
    "       'Resuelta', 'ANS', 'Remedy ID',\n",
    "       'Customer Reporter']]\n",
    "df.head(1)"
   ]
  },
  {
   "cell_type": "markdown",
   "id": "336e0f8b",
   "metadata": {},
   "source": [
    "# Load"
   ]
  },
  {
   "cell_type": "code",
   "execution_count": 76,
   "id": "df021107",
   "metadata": {},
   "outputs": [
    {
     "data": {
      "text/html": [
       "<div>\n",
       "<style scoped>\n",
       "    .dataframe tbody tr th:only-of-type {\n",
       "        vertical-align: middle;\n",
       "    }\n",
       "\n",
       "    .dataframe tbody tr th {\n",
       "        vertical-align: top;\n",
       "    }\n",
       "\n",
       "    .dataframe thead th {\n",
       "        text-align: right;\n",
       "    }\n",
       "</style>\n",
       "<table border=\"1\" class=\"dataframe\">\n",
       "  <thead>\n",
       "    <tr style=\"text-align: right;\">\n",
       "      <th></th>\n",
       "      <th>Componente(s)</th>\n",
       "      <th>Ticket</th>\n",
       "      <th>Resumen</th>\n",
       "      <th>Descripción</th>\n",
       "      <th>Estado</th>\n",
       "      <th>Remedy Status</th>\n",
       "      <th>Creada</th>\n",
       "      <th>Resuelta</th>\n",
       "      <th>ANS</th>\n",
       "      <th>Remedy ID</th>\n",
       "      <th>Customer Reporter</th>\n",
       "    </tr>\n",
       "  </thead>\n",
       "  <tbody>\n",
       "    <tr>\n",
       "      <th>0</th>\n",
       "      <td>Eina de QdC AUTOSERVEI</td>\n",
       "      <td>WO0000004544951</td>\n",
       "      <td>Suport funcional de l'eina \"Plataforma Dades R...</td>\n",
       "      <td>Molt bon dia, Voldríem sol·licitar una càrrega...</td>\n",
       "      <td>Paralizada</td>\n",
       "      <td>Pending</td>\n",
       "      <td>17/04/2025 14:01</td>\n",
       "      <td>NaN</td>\n",
       "      <td>24/04/2025 15:49</td>\n",
       "      <td>REQ000011308263</td>\n",
       "      <td>XAVIER LASAUCA CISA</td>\n",
       "    </tr>\n",
       "  </tbody>\n",
       "</table>\n",
       "</div>"
      ],
      "text/plain": [
       "            Componente(s)           Ticket  \\\n",
       "0  Eina de QdC AUTOSERVEI  WO0000004544951   \n",
       "\n",
       "                                             Resumen  \\\n",
       "0  Suport funcional de l'eina \"Plataforma Dades R...   \n",
       "\n",
       "                                         Descripción      Estado  \\\n",
       "0  Molt bon dia, Voldríem sol·licitar una càrrega...  Paralizada   \n",
       "\n",
       "  Remedy Status            Creada Resuelta               ANS        Remedy ID  \\\n",
       "0       Pending  17/04/2025 14:01      NaN  24/04/2025 15:49  REQ000011308263   \n",
       "\n",
       "     Customer Reporter  \n",
       "0  XAVIER LASAUCA CISA  "
      ]
     },
     "execution_count": 76,
     "metadata": {},
     "output_type": "execute_result"
    }
   ],
   "source": [
    "df.head(1)"
   ]
  },
  {
   "cell_type": "code",
   "execution_count": 75,
   "id": "b4bae77a",
   "metadata": {},
   "outputs": [
    {
     "name": "stdout",
     "output_type": "stream",
     "text": [
      "Excel 'daily.xlsx' guardat.\n"
     ]
    }
   ],
   "source": [
    "# Guardar Excel\n",
    "df.to_excel(daily_path, index=False)\n",
    "print(f\"Excel '{daily_path}' guardat.\")"
   ]
  },
  {
   "cell_type": "code",
   "execution_count": null,
   "id": "d5be6146",
   "metadata": {},
   "outputs": [],
   "source": []
  }
 ],
 "metadata": {
  "kernelspec": {
   "display_name": "Python 3",
   "language": "python",
   "name": "python3"
  },
  "language_info": {
   "codemirror_mode": {
    "name": "ipython",
    "version": 3
   },
   "file_extension": ".py",
   "mimetype": "text/x-python",
   "name": "python",
   "nbconvert_exporter": "python",
   "pygments_lexer": "ipython3",
   "version": "3.12.8"
  }
 },
 "nbformat": 4,
 "nbformat_minor": 5
}
